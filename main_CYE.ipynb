{
 "cells": [
  {
   "cell_type": "code",
   "execution_count": 1,
   "metadata": {},
   "outputs": [],
   "source": [
    "import pandas as pd\n",
    "import re\n",
    "import numpy as np\n",
    "import requests\n",
    "import glob\n",
    "import os\n",
    "from tqdm import tqdm\n",
    "from janitor import clean_names\n",
    "from dicts import dict_columns_rrhh_download, dict_columns_select_download, path\n",
    "from openpyxl import load_workbook\n",
    "from datetime import datetime\n",
    "import locale as lc"
   ]
  },
  {
   "cell_type": "code",
   "execution_count": null,
   "metadata": {},
   "outputs": [],
   "source": [
    "def download_excel(files, path_download):\n",
    "    \"\"\"\n",
    "        Extrae código, razon_social, rut y declaración de retención de impuestos y pagos provisionales codigos: 538, 142 y 020\n",
    "\n",
    "        Args:\n",
    "            files (str): path al archivo a extraer\n",
    "    \"\"\"\n",
    "    \n",
    "    try: \n",
    "\n",
    "        sheet_patron = r\"BD_Postulación|BD_postulacion|BD postulacion|BD postulación\"\n",
    "\n",
    "        nombre_hoja = next(sheet for sheet in pd.ExcelFile(files).sheet_names if re.search(sheet_patron, sheet, flags=re.IGNORECASE))\n",
    "\n",
    "        df = pd.read_excel(files,\n",
    "                    sheet_name=nombre_hoja).clean_names()\n",
    "        try:\n",
    "            try:\n",
    "\n",
    "                patron = \"company_name|application_name\"  # Patrón para identificar la fila\n",
    "\n",
    "                fila_nombres = df[df.apply(lambda row: row.str.contains(patron, case=False, na=False)).any(axis=1)].index[0]\n",
    "\n",
    "            except:\n",
    "                patron = \"application_name\"  # Patrón para identificar la fila\n",
    "\n",
    "                fila_nombres = df[df.eq(patron).any(axis=1)].index[0]\n",
    "            \n",
    "            df = pd.read_excel(files,\n",
    "                    sheet_name=nombre_hoja,\n",
    "                    header=fila_nombres+1).clean_names()\n",
    "\n",
    "            inverted_dict_column = {value: key for key, values in dict_columns_rrhh_download.items() for value in values}\n",
    "                \n",
    "            df = df.rename(columns=inverted_dict_column)\n",
    "\n",
    "            df = df.filter(items=dict_columns_select_download)\n",
    "\n",
    "        except:\n",
    "            inverted_dict_column = {value: key for key, values in dict_columns_rrhh_download.items() for value in values}\n",
    "            \n",
    "            df = df.rename(columns=inverted_dict_column)\n",
    "\n",
    "            df = df.filter(items=dict_columns_select_download)\n",
    "    \n",
    "    except:\n",
    "\n",
    "        # sheet_patron = r\"BD_Postulación|BD_postulacion|BD postulacion|BD postulación\"\n",
    "\n",
    "        # nombre_hoja = next(sheet for sheet in pd.ExcelFile(files).sheet_names if re.search(sheet_patron, sheet, flags=re.IGNORECASE))\n",
    "\n",
    "        # df = pd.read_excel(files, sheet_name=sheet_patron).clean_names()\n",
    "\n",
    "        df = pd.read_excel(files).clean_names()\n",
    "\n",
    "        inverted_dict_column = {value: key for key, values in dict_columns_rrhh_download.items() for value in values}\n",
    "            \n",
    "        df = df.rename(columns=inverted_dict_column)\n",
    "\n",
    "        #df = df[(df.application_sent == 'si') & (~df.plan_trabajo_presupuesto_rrhh.isna())]\n",
    "\n",
    "        try:\n",
    "            df = df.filter(items=dict_columns_select_download)\n",
    "\n",
    "        except:\n",
    "            df = df.loc[:, dict_columns_select_download]\n",
    "\n",
    "    for index, row in df.iterrows():\n",
    "        codigo = str(row['codigo'])\n",
    "        carpeta_destino = f'{path_download}/{codigo}'\n",
    "\n",
    "        if not os.path.exists(carpeta_destino):\n",
    "            os.makedirs(carpeta_destino)\n",
    "\n",
    "        hipervinculo = row['plan_trabajo_presupuesto_rrhh']\n",
    "    \n",
    "        nombre_archivo = codigo + '.xlsx'\n",
    "        \n",
    "        ruta_archivo = os.path.join(carpeta_destino, nombre_archivo)\n",
    "        \n",
    "        if os.path.exists(ruta_archivo):\n",
    "            continue\n",
    "\n",
    "        try:\n",
    "            response = requests.get(hipervinculo)\n",
    "            with open(ruta_archivo, 'wb') as file:\n",
    "                file.write(response.content)\n",
    "        except Exception as e:\n",
    "            print(f\"Error al descargar el archivo desde {hipervinculo}: {str(e)}\")\n",
    "            continue"
   ]
  },
  {
   "cell_type": "code",
   "execution_count": null,
   "metadata": {},
   "outputs": [],
   "source": [
    "path = r'data\\2.2023\\CYE'"
   ]
  },
  {
   "cell_type": "code",
   "execution_count": null,
   "metadata": {},
   "outputs": [],
   "source": [
    "def rrhh_scrap(path, año=2023):\n",
    "    \"\"\"\n",
    "        Recorre carpetas por año para extraer RRHH reportados por beneficiarios en base al código del proyecto\n",
    "\n",
    "        Args:\n",
    "            path (str): path a los archivos que contienen las BD de postulación con los archivos de RRHH postulados.\n",
    "            año (int): año de la convocatoria\n",
    "    \"\"\"\n",
    "    \n",
    "    for concurso in tqdm(glob.iglob(f'{path}/*')):\n",
    "        print(concurso)\n",
    "        download_excel(concurso, path_download = 'output/2.2023/CYE')"
   ]
  },
  {
   "cell_type": "code",
   "execution_count": null,
   "metadata": {},
   "outputs": [],
   "source": [
    "rrhh_scrap(path)"
   ]
  },
  {
   "cell_type": "markdown",
   "metadata": {},
   "source": [
    "# Cambios nombres de hoja de presupuesto"
   ]
  },
  {
   "cell_type": "code",
   "execution_count": null,
   "metadata": {},
   "outputs": [],
   "source": [
    "path = r'data/2.2023/CYE/2.2023 CYE Base de datos de postulación.xlsx'"
   ]
  },
  {
   "cell_type": "code",
   "execution_count": null,
   "metadata": {},
   "outputs": [],
   "source": [
    "df = pd.read_excel(path).clean_names()"
   ]
  },
  {
   "cell_type": "code",
   "execution_count": null,
   "metadata": {},
   "outputs": [],
   "source": [
    "df.columns.to_list()"
   ]
  },
  {
   "cell_type": "code",
   "execution_count": null,
   "metadata": {},
   "outputs": [],
   "source": []
  },
  {
   "cell_type": "markdown",
   "metadata": {},
   "source": [
    "## **Proceso de Inserción de datos asociados a PPTO instrumento \"CONSOLIDA Y EXPANDE INNOVACIÓN\"**\n",
    "\n",
    "A continuación, se implementará un sistema que nos permite obtener información relevante del presupuesto de los proyectos.\n",
    "\n",
    "Entre los hitos fundamentales que se realizarán son:\n",
    "- El código del proyecto obtenido de Charly y SGP.\n",
    "- Aporte Innova Chile (Subsidio) $\n",
    "- Aporte Beneficiaria (Pecuniario) $\n",
    "- Aporte Beneficiaria (Valorado) $ \n",
    "- Aporte Asociados (Pecuniario) $ \n",
    "- Aporte Asociados (Valorado) $ \n",
    "- Total ($). Corresponde al monto total del proyecto\n",
    "- Gasto de Inversión\n",
    "- Gastos de Administración\n"
   ]
  },
  {
   "cell_type": "markdown",
   "metadata": {},
   "source": [
    "### **Pasos de ejecución**"
   ]
  },
  {
   "cell_type": "markdown",
   "metadata": {},
   "source": [
    "#### **1-. Mostrar la ruta absoluta según perfil**\n",
    " - Ejecutar celda para mostrar la ruta principal según perfil de usuario.\n",
    " - El resultado mostrará la ruta  del usuario registrado."
   ]
  },
  {
   "cell_type": "code",
   "execution_count": 2,
   "metadata": {},
   "outputs": [
    {
     "data": {
      "text/plain": [
       "'C:/Users/esteban.berrios/OneDrive - corfo.cl/'"
      ]
     },
     "execution_count": 2,
     "metadata": {},
     "output_type": "execute_result"
    }
   ],
   "source": [
    "# Se obtiene la ruta principal, que es llamada del directorio. Acá se pueden crear n rutas para distintos perfiles.\n",
    "path['esteban']"
   ]
  },
  {
   "cell_type": "markdown",
   "metadata": {},
   "source": [
    "#### **2-. Guardar la ruta en donde se encuentran guardados los proyectos**\n",
    "- Ejecutar celda para llamar la ruta absoluta asociada a mi perfil, y concatenarla con la ruta relativa asociada al directorio donde están los proyectos.\n",
    "- En la variable input_path quedará guardada la ruta de acceso a los proyectos."
   ]
  },
  {
   "cell_type": "code",
   "execution_count": 3,
   "metadata": {},
   "outputs": [],
   "source": [
    "# Tabla con presupuestos. El códigop permite generar nueva ruta llamada input_path que apunta a un directorio específico\n",
    "# dentro de la estructura de directorios en path['esteban']. Esto facilita la manipulación y navegación en el sistema de archivos dentro de ese directorio en particular.\n",
    "ruta = os.path.abspath(path['esteban'])\n",
    "input_path = os.path.join(ruta, \"extract_pdt/output/2.2023/CYE\")\n",
    "\n",
    "\n"
   ]
  },
  {
   "cell_type": "markdown",
   "metadata": {},
   "source": [
    "#### **3-. Mostrar la nueva ruta concatenada correspondiente al directorio en donde se guardan los proyectos**\n",
    "- La ejecución de la celda mostrará la ruta asociada al directorio en donde se guardan los proyectos en formato .xlsx."
   ]
  },
  {
   "cell_type": "code",
   "execution_count": 4,
   "metadata": {},
   "outputs": [
    {
     "data": {
      "text/plain": [
       "'C:\\\\Users\\\\esteban.berrios\\\\OneDrive - corfo.cl\\\\extract_pdt/output/2.2023/CYE'"
      ]
     },
     "execution_count": 4,
     "metadata": {},
     "output_type": "execute_result"
    }
   ],
   "source": [
    "input_path #Muestra la nueva ruta."
   ]
  },
  {
   "cell_type": "markdown",
   "metadata": {},
   "source": [
    "#### **4-. Mostrar el acceso a la carpeta asociada a los proyectos**\n",
    "- El resultado de la ejecución de esta celda, permite mostrar el llamado del primer proyecto que se encuentra en la carpeta."
   ]
  },
  {
   "cell_type": "code",
   "execution_count": 5,
   "metadata": {},
   "outputs": [
    {
     "data": {
      "text/plain": [
       "'388446'"
      ]
     },
     "execution_count": 5,
     "metadata": {},
     "output_type": "execute_result"
    }
   ],
   "source": [
    "#  Se define la variable folder como un vacío, y  con la siguiente línea de toma el primer archivo encontrado en una carpeta específica (dada por input_path y folder), \n",
    "# elimina la extensión \".xlsx\" del nombre de ese archivo y devuelve el resultado, que probablemente sea utilizado como un identificador o código para ese archivo en particular.\n",
    "folder = \"\"\n",
    "os.listdir(os.path.join(input_path,folder))[0].replace(\".xlsx\",\"\")"
   ]
  },
  {
   "cell_type": "markdown",
   "metadata": {},
   "source": [
    "#### **5-.Guardar en un Primer Data Frame la información correspondiente a los indicadores de presupuesto de los proyectos**\n",
    "A partir de la ejcución de esta celda que contiene la estructura de código podrá obtener un Data Frame que tendrá de todos los proyectos:\n",
    "- El código obtenido de Charly y SGP.\n",
    "- Aporte Innova Chile (Subsidio) $\n",
    "- Aporte Beneficiaria (Pecuniario) $\n",
    "- Aporte Beneficiaria (Valorado) $ \n",
    "- Aporte Asociados (Pecuniario) $ \n",
    "- Aporte Asociados (Valorado) $ \n",
    "- Total ($). Corresponde al monto total del proyecto\n",
    "- Gasto de Inversión\n",
    "- Gastos de Administración\n",
    "\n",
    "El resultado se guardará en el data frame llamado df_presupuesto.\n",
    "\n"
   ]
  },
  {
   "cell_type": "code",
   "execution_count": 8,
   "metadata": {},
   "outputs": [],
   "source": [
    "%%capture\n",
    "%%time\n",
    "df_presupuesto = pd.DataFrame()\n",
    "\n",
    "for folder in os.listdir(input_path):\n",
    "    folder_path = os.path.join(input_path, folder)\n",
    "    if os.path.isdir(folder_path):\n",
    "        excel_files = [file for file in os.listdir(folder_path) if file.endswith(\".xlsx\")]\n",
    "\n",
    "        for excel_file in excel_files:\n",
    "            file = os.path.join(folder_path, excel_file)\n",
    "            codigo = os.listdir(os.path.join(input_path, folder))[0].replace(\".xlsx\", \"\")\n",
    "            \n",
    "            try:\n",
    "                # Lectura del archivo Excel\n",
    "                worksheet = pd.read_excel(file, sheet_name=\"RESUMEN PPTO\")\n",
    "\n",
    "                # Resto del código para procesar los datos cuando no hay excepción\n",
    "                worksheet = worksheet.iloc[7:13, 1:]\n",
    "                worksheet.columns = worksheet.iloc[0]\n",
    "                worksheet = worksheet[1:].reset_index(drop=True)\n",
    "                # String que captura nombre de variable Cuenta (Financiable o Presupuestable)\n",
    "                str_cuenta_financiable = worksheet.columns[worksheet.columns.str.contains(\"Cuenta\")].values[0]\n",
    "                worksheet_row = worksheet[worksheet[str_cuenta_financiable] == \"TOTAL ($)\"]\n",
    "                fila_gasto_inversion = worksheet[worksheet[str_cuenta_financiable] == \"Gasto de Inversión\"]\n",
    "                indice_gasto_inversion = fila_gasto_inversion.index[0]  # Obtenemos el índice de la fila \"Gasto de Inversión\"\n",
    "                registro_gasto_inversion = fila_gasto_inversion.iloc[0,1]\n",
    "                fila_gasto_administracion = worksheet[worksheet[str_cuenta_financiable] == \"Gastos de Administración\"]\n",
    "                indice_gasto_administracion = fila_gasto_administracion.index[0]  # Obtenemos el índice de la fila \"Gasto de Inversión\"\n",
    "                registro_gasto_administracion = fila_gasto_administracion.iloc[0,1]\n",
    "\n",
    "                # Anexar los datos al DataFrame df_presupuesto\n",
    "                worksheet_row.insert(0, \"codigo\", codigo) # Agregar la columna 'codigo' en la primera ubicación a la izquierda\n",
    "                worksheet_row.insert(worksheet_row.columns.__len__(),\"Gasto de Inversión\",registro_gasto_inversion)\n",
    "                worksheet_row.insert(worksheet_row.columns.__len__(),\"Gastos de Administración\",registro_gasto_administracion)\n",
    "                worksheet_row.drop(columns=[str_cuenta_financiable], inplace=True) # Eliminar la columna 'Cuentas Financiables'\n",
    "                df_presupuesto = pd.concat([df_presupuesto, worksheet_row])\n",
    "\n",
    "                # Agregar la columna \"Estado\" y registrar \"ok\" para esta fila\n",
    "                df_presupuesto.loc[df_presupuesto['codigo'] == codigo, 'Estado'] = 'ok'\n",
    "\n",
    "            except Exception as e:\n",
    "                # Si se produce una excepción al leer el archivo Excel, se imprime un mensaje de error\n",
    "                print(f'Error al procesar el archivo {file}: {str(e)}')\n",
    "\n",
    "                # Crear un diccionario con el código y valores 0 para todas las columnas, excepto 'codigo'\n",
    "                data = {'codigo': codigo, 'Estado': 'inadmisible'}\n",
    "                for col in df_presupuesto.columns:\n",
    "                    if col != 'codigo' and col != 'Estado':\n",
    "                        data[col] = 0\n",
    "\n",
    "                # Agregar una nueva fila al DataFrame df_presupuesto\n",
    "                df_presupuesto = df_presupuesto.append(data, ignore_index=True)\n",
    "                continue  # Continúa con el siguiente archivo\n",
    "\n",
    "\n",
    "lc.setlocale(lc.LC_ALL, 'es_CL.UTF-8')\n",
    "\n",
    "def format_currency(value):\n",
    "    return lc.currency(value, grouping=True, symbol='$')\n",
    "\n",
    "# Aplicar formato de moneda a las columnas numéricas (excepto 'codigo' y 'Estado')\n",
    "columnas_numericas = df_presupuesto.columns.difference(['codigo', 'Estado'])\n",
    "df_presupuesto[columnas_numericas] = df_presupuesto[columnas_numericas].applymap(format_currency)\n",
    "\n",
    "# Reiniciar el índice del DataFrame resultante\n",
    "df_presupuesto.reset_index(drop=True, inplace=True)\n"
   ]
  },
  {
   "cell_type": "code",
   "execution_count": 9,
   "metadata": {},
   "outputs": [
    {
     "data": {
      "text/html": [
       "<div>\n",
       "<style scoped>\n",
       "    .dataframe tbody tr th:only-of-type {\n",
       "        vertical-align: middle;\n",
       "    }\n",
       "\n",
       "    .dataframe tbody tr th {\n",
       "        vertical-align: top;\n",
       "    }\n",
       "\n",
       "    .dataframe thead th {\n",
       "        text-align: right;\n",
       "    }\n",
       "</style>\n",
       "<table border=\"1\" class=\"dataframe\">\n",
       "  <thead>\n",
       "    <tr style=\"text-align: right;\">\n",
       "      <th></th>\n",
       "      <th>codigo</th>\n",
       "      <th>Aporte Innova Chile\\n(Subsidio) $</th>\n",
       "      <th>Aporte Beneficiaria\\n(Pecuniario) $</th>\n",
       "      <th>Aporte Beneficiaria\\n(Valorado) $</th>\n",
       "      <th>Aporte Asociados\\n(Pecuniario) $</th>\n",
       "      <th>Aporte Asociados\\n(Valorado) $</th>\n",
       "      <th>Total ($)</th>\n",
       "      <th>Gasto de Inversión</th>\n",
       "      <th>Gastos de Administración</th>\n",
       "      <th>Estado</th>\n",
       "    </tr>\n",
       "  </thead>\n",
       "  <tbody>\n",
       "    <tr>\n",
       "      <th>0</th>\n",
       "      <td>388446</td>\n",
       "      <td>$0</td>\n",
       "      <td>$0</td>\n",
       "      <td>$0</td>\n",
       "      <td>$0</td>\n",
       "      <td>$0</td>\n",
       "      <td>$0</td>\n",
       "      <td>$0</td>\n",
       "      <td>$0</td>\n",
       "      <td>ok</td>\n",
       "    </tr>\n",
       "    <tr>\n",
       "      <th>1</th>\n",
       "      <td>389313</td>\n",
       "      <td>$150.000.000</td>\n",
       "      <td>$89.186.112</td>\n",
       "      <td>$16.128.000</td>\n",
       "      <td>$0</td>\n",
       "      <td>$4.000.000</td>\n",
       "      <td>$259.314.112</td>\n",
       "      <td>$45.000.000</td>\n",
       "      <td>$15.000.000</td>\n",
       "      <td>ok</td>\n",
       "    </tr>\n",
       "    <tr>\n",
       "      <th>2</th>\n",
       "      <td>389502</td>\n",
       "      <td>$149.139.520</td>\n",
       "      <td>$139.500.000</td>\n",
       "      <td>$0</td>\n",
       "      <td>$0</td>\n",
       "      <td>$0</td>\n",
       "      <td>$288.639.520</td>\n",
       "      <td>$16.000.000</td>\n",
       "      <td>$0</td>\n",
       "      <td>ok</td>\n",
       "    </tr>\n",
       "    <tr>\n",
       "      <th>3</th>\n",
       "      <td>389699</td>\n",
       "      <td>$600.000.000</td>\n",
       "      <td>$4.000.000</td>\n",
       "      <td>$4.000.000</td>\n",
       "      <td>$0</td>\n",
       "      <td>$0</td>\n",
       "      <td>$608.000.000</td>\n",
       "      <td>$150.000.000</td>\n",
       "      <td>$150.000.000</td>\n",
       "      <td>ok</td>\n",
       "    </tr>\n",
       "    <tr>\n",
       "      <th>4</th>\n",
       "      <td>389727</td>\n",
       "      <td>$149.530.004</td>\n",
       "      <td>$101.110.000</td>\n",
       "      <td>$59.520.000</td>\n",
       "      <td>$0</td>\n",
       "      <td>$0</td>\n",
       "      <td>$310.160.004</td>\n",
       "      <td>$11.490.000</td>\n",
       "      <td>$4.200.000</td>\n",
       "      <td>ok</td>\n",
       "    </tr>\n",
       "    <tr>\n",
       "      <th>...</th>\n",
       "      <td>...</td>\n",
       "      <td>...</td>\n",
       "      <td>...</td>\n",
       "      <td>...</td>\n",
       "      <td>...</td>\n",
       "      <td>...</td>\n",
       "      <td>...</td>\n",
       "      <td>...</td>\n",
       "      <td>...</td>\n",
       "      <td>...</td>\n",
       "    </tr>\n",
       "    <tr>\n",
       "      <th>159</th>\n",
       "      <td>399675</td>\n",
       "      <td>$119.684.000</td>\n",
       "      <td>$43.440.000</td>\n",
       "      <td>$20.000.000</td>\n",
       "      <td>$10.160.000</td>\n",
       "      <td>$10.000.000</td>\n",
       "      <td>$203.284.000</td>\n",
       "      <td>$30.000.000</td>\n",
       "      <td>$11.760.000</td>\n",
       "      <td>ok</td>\n",
       "    </tr>\n",
       "    <tr>\n",
       "      <th>160</th>\n",
       "      <td>399688</td>\n",
       "      <td>$150.000.000</td>\n",
       "      <td>$54.720.000</td>\n",
       "      <td>$48.000.000</td>\n",
       "      <td>$0</td>\n",
       "      <td>$0</td>\n",
       "      <td>$252.720.000</td>\n",
       "      <td>$0</td>\n",
       "      <td>$7.200.000</td>\n",
       "      <td>ok</td>\n",
       "    </tr>\n",
       "    <tr>\n",
       "      <th>161</th>\n",
       "      <td>399689</td>\n",
       "      <td>$88.257.800</td>\n",
       "      <td>$68.500.000</td>\n",
       "      <td>$65.448.200</td>\n",
       "      <td>$0</td>\n",
       "      <td>$0</td>\n",
       "      <td>$222.206.000</td>\n",
       "      <td>$1.400.000</td>\n",
       "      <td>$8.824.800</td>\n",
       "      <td>ok</td>\n",
       "    </tr>\n",
       "    <tr>\n",
       "      <th>162</th>\n",
       "      <td>399705</td>\n",
       "      <td>$0</td>\n",
       "      <td>$0</td>\n",
       "      <td>$0</td>\n",
       "      <td>$0</td>\n",
       "      <td>$0</td>\n",
       "      <td>$0</td>\n",
       "      <td>$0</td>\n",
       "      <td>$0</td>\n",
       "      <td>ok</td>\n",
       "    </tr>\n",
       "    <tr>\n",
       "      <th>163</th>\n",
       "      <td>399725</td>\n",
       "      <td>$149.570.000</td>\n",
       "      <td>$100.300.000</td>\n",
       "      <td>$0</td>\n",
       "      <td>$0</td>\n",
       "      <td>$0</td>\n",
       "      <td>$249.870.000</td>\n",
       "      <td>$0</td>\n",
       "      <td>$7.200.000</td>\n",
       "      <td>ok</td>\n",
       "    </tr>\n",
       "  </tbody>\n",
       "</table>\n",
       "<p>164 rows × 10 columns</p>\n",
       "</div>"
      ],
      "text/plain": [
       "     codigo Aporte Innova Chile\\n(Subsidio) $  \\\n",
       "0    388446                                $0   \n",
       "1    389313                      $150.000.000   \n",
       "2    389502                      $149.139.520   \n",
       "3    389699                      $600.000.000   \n",
       "4    389727                      $149.530.004   \n",
       "..      ...                               ...   \n",
       "159  399675                      $119.684.000   \n",
       "160  399688                      $150.000.000   \n",
       "161  399689                       $88.257.800   \n",
       "162  399705                                $0   \n",
       "163  399725                      $149.570.000   \n",
       "\n",
       "    Aporte Beneficiaria\\n(Pecuniario) $  Aporte Beneficiaria\\n(Valorado) $   \\\n",
       "0                                     $0                                 $0   \n",
       "1                            $89.186.112                        $16.128.000   \n",
       "2                           $139.500.000                                 $0   \n",
       "3                             $4.000.000                         $4.000.000   \n",
       "4                           $101.110.000                        $59.520.000   \n",
       "..                                   ...                                ...   \n",
       "159                          $43.440.000                        $20.000.000   \n",
       "160                          $54.720.000                        $48.000.000   \n",
       "161                          $68.500.000                        $65.448.200   \n",
       "162                                   $0                                 $0   \n",
       "163                         $100.300.000                                 $0   \n",
       "\n",
       "    Aporte Asociados\\n(Pecuniario) $  Aporte Asociados\\n(Valorado) $   \\\n",
       "0                                  $0                              $0   \n",
       "1                                  $0                      $4.000.000   \n",
       "2                                  $0                              $0   \n",
       "3                                  $0                              $0   \n",
       "4                                  $0                              $0   \n",
       "..                                ...                             ...   \n",
       "159                       $10.160.000                     $10.000.000   \n",
       "160                                $0                              $0   \n",
       "161                                $0                              $0   \n",
       "162                                $0                              $0   \n",
       "163                                $0                              $0   \n",
       "\n",
       "        Total ($) Gasto de Inversión Gastos de Administración Estado  \n",
       "0              $0                 $0                       $0     ok  \n",
       "1    $259.314.112        $45.000.000              $15.000.000     ok  \n",
       "2    $288.639.520        $16.000.000                       $0     ok  \n",
       "3    $608.000.000       $150.000.000             $150.000.000     ok  \n",
       "4    $310.160.004        $11.490.000               $4.200.000     ok  \n",
       "..            ...                ...                      ...    ...  \n",
       "159  $203.284.000        $30.000.000              $11.760.000     ok  \n",
       "160  $252.720.000                 $0               $7.200.000     ok  \n",
       "161  $222.206.000         $1.400.000               $8.824.800     ok  \n",
       "162            $0                 $0                       $0     ok  \n",
       "163  $249.870.000                 $0               $7.200.000     ok  \n",
       "\n",
       "[164 rows x 10 columns]"
      ]
     },
     "execution_count": 9,
     "metadata": {},
     "output_type": "execute_result"
    }
   ],
   "source": [
    "df_presupuesto.head(164)"
   ]
  },
  {
   "cell_type": "markdown",
   "metadata": {},
   "source": [
    "#### **6-.Crear una nueva hoja de trabajo o worksheet en el documento xlsx que contendrá el resultado final del data frame importado a excel**\n",
    "A partir de la ejcución de esta celda se podrá obtener:\n",
    "-La importación del resultado final del Data Frame a un worksheet definido según la veriable del archivo excel y el nombre de la hoja."
   ]
  },
  {
   "cell_type": "code",
   "execution_count": 9,
   "metadata": {},
   "outputs": [],
   "source": [
    "nombre_archivo_excel = 'data/2.2023/CYE/2.2023 CYE Base de datos de postulación.xlsx'\n",
    "nombre_hoja_excel = 'PRESUPUESTO'  # Cambia 'Hoja1' al nombre de tu hoja específica\n",
    "\n",
    "# Crea un objeto ExcelWriter para escribir en el archivo Excel\n",
    "with pd.ExcelWriter(nombre_archivo_excel, engine='openpyxl', mode='a') as writer:\n",
    "    # Carga el DataFrame en la hoja de Excel especificada\n",
    "    df_presupuesto.to_excel(writer, sheet_name=nombre_hoja_excel, index=False)# Usar EL .reset_index() en caso que desea que el indice aparezca en el df.\n",
    "    #df_presupuesto.reset_index(drop=True).to_excel(writer, sheet_name=nombre_hoja_excel, index=False)# Al resetear el indice, automáticamente queda asociado como columna. SE DEBE USAR PARA INSTRUMENTOSQUE NO CONTEMPLEN APORTE I+D.\n",
    "\n",
    "\n"
   ]
  },
  {
   "cell_type": "markdown",
   "metadata": {},
   "source": []
  },
  {
   "cell_type": "markdown",
   "metadata": {},
   "source": []
  },
  {
   "cell_type": "markdown",
   "metadata": {},
   "source": []
  },
  {
   "cell_type": "markdown",
   "metadata": {},
   "source": []
  }
 ],
 "metadata": {
  "kernelspec": {
   "display_name": "pedidas",
   "language": "python",
   "name": "python3"
  },
  "language_info": {
   "codemirror_mode": {
    "name": "ipython",
    "version": 3
   },
   "file_extension": ".py",
   "mimetype": "text/x-python",
   "name": "python",
   "nbconvert_exporter": "python",
   "pygments_lexer": "ipython3",
   "version": "3.9.16"
  },
  "orig_nbformat": 4
 },
 "nbformat": 4,
 "nbformat_minor": 2
}
